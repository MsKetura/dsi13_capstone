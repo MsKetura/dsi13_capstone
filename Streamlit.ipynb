{
 "cells": [
  {
   "cell_type": "code",
   "execution_count": 3,
   "metadata": {},
   "outputs": [],
   "source": [
    "#! pip install streamlit"
   ]
  },
  {
   "cell_type": "code",
   "execution_count": null,
   "metadata": {},
   "outputs": [],
   "source": [
    "import streamlit as st\n",
    "\n",
    "st.set_page_config(\n",
    "    page_icon='',\n",
    "    initial_sidebar_state='expanded')\n",
    "\n",
    "st.title('Beyonce vs. Rihanna Lyrics Classifier')\n",
    "\n",
    "st.write('Use the sidebar to select a page to view.')\n",
    "\n",
    "page = st.sidebar.selectbox(\n",
    "    'Page',\n",
    "    ('About', 'EDA', 'Make a prediction'))\n",
    "\n",
    "@st.cache\n",
    "def = pd.read_csv('lyrics_and_artist.csv',encoding='latin-1')\n",
    "return ladies\n",
    "\n",
    "# how to remove 148 \"weird\" lyrics\n",
    "\n",
    "@st.cache\n",
    "\n",
    "if page = 'About':\n",
    "    st.subheader('About this project')\n",
    "    st.write('''This is a Streamlit app that hosts my Beyonce vs. Rihanna Model. The best model I found was a tbd classifier fit on count vectorized text.''')\n",
    "    elif page == 'EDA':\n",
    "        st.subheader('Exploratory Data Analysis')\n",
    "        st.write('''The model is trained on lyrics from both artists.''')\n",
    "        st.write('''This bar chart is of the top 10 most common stopwords.''')\n",
    "        st.write('''This model does not include the stopwords.''')  \n",
    "        \n",
    "    elif page == 'Make a prediction':\n",
    "        st.subheader('Want to see if this model can predict which artist the lyrics you insert belong to?')\n",
    "        st.write('''Enter some lyrics to make a prediction!''')"
   ]
  },
  {
   "cell_type": "code",
   "execution_count": null,
   "metadata": {},
   "outputs": [],
   "source": []
  },
  {
   "cell_type": "code",
   "execution_count": null,
   "metadata": {},
   "outputs": [],
   "source": []
  },
  {
   "cell_type": "code",
   "execution_count": null,
   "metadata": {},
   "outputs": [],
   "source": []
  }
 ],
 "metadata": {
  "kernelspec": {
   "display_name": "Python 3",
   "language": "python",
   "name": "python3"
  },
  "language_info": {
   "codemirror_mode": {
    "name": "ipython",
    "version": 3
   },
   "file_extension": ".py",
   "mimetype": "text/x-python",
   "name": "python",
   "nbconvert_exporter": "python",
   "pygments_lexer": "ipython3",
   "version": "3.8.5"
  }
 },
 "nbformat": 4,
 "nbformat_minor": 4
}
